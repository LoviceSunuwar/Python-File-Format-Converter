{
 "cells": [
  {
   "cell_type": "code",
   "execution_count": 2,
   "metadata": {},
   "outputs": [],
   "source": [
    "import json, glob, pandas as pd, re"
   ]
  },
  {
   "cell_type": "code",
   "execution_count": 3,
   "metadata": {},
   "outputs": [],
   "source": [
    "schemas = json.load(open('data/retail_db/schemas.json'))"
   ]
  },
  {
   "cell_type": "code",
   "execution_count": 4,
   "metadata": {},
   "outputs": [],
   "source": [
    "src_file_names = glob.glob('data/retail_db/*/part*')"
   ]
  },
  {
   "cell_type": "code",
   "execution_count": 5,
   "metadata": {},
   "outputs": [
    {
     "data": {
      "text/plain": [
       "['data/retail_db\\\\customers\\\\part-00000',\n",
       " 'data/retail_db\\\\products\\\\part-00000',\n",
       " 'data/retail_db\\\\departments\\\\part-00000',\n",
       " 'data/retail_db\\\\order_items\\\\part-00000',\n",
       " 'data/retail_db\\\\orders\\\\part-00000',\n",
       " 'data/retail_db\\\\categories\\\\part-00000']"
      ]
     },
     "execution_count": 5,
     "metadata": {},
     "output_type": "execute_result"
    }
   ],
   "source": [
    "src_file_names"
   ]
  },
  {
   "cell_type": "markdown",
   "metadata": {},
   "source": []
  },
  {
   "cell_type": "code",
   "execution_count": 6,
   "metadata": {},
   "outputs": [],
   "source": [
    "s = 's/a\\\\b\\\\c'"
   ]
  },
  {
   "cell_type": "code",
   "execution_count": 7,
   "metadata": {},
   "outputs": [
    {
     "data": {
      "text/plain": [
       "['s/a', 'b', 'c']"
      ]
     },
     "execution_count": 7,
     "metadata": {},
     "output_type": "execute_result"
    }
   ],
   "source": [
    "s.split('\\\\')"
   ]
  },
  {
   "cell_type": "code",
   "execution_count": 8,
   "metadata": {},
   "outputs": [
    {
     "data": {
      "text/plain": [
       "['s', 'a', 'b', 'c']"
      ]
     },
     "execution_count": 8,
     "metadata": {},
     "output_type": "execute_result"
    }
   ],
   "source": [
    "re.split('[/\\\\\\]', s)"
   ]
  },
  {
   "cell_type": "code",
   "execution_count": 9,
   "metadata": {},
   "outputs": [
    {
     "name": "stdout",
     "output_type": "stream",
     "text": [
      "['data', 'retail_db', 'customers', 'part-00000']\n",
      "['data', 'retail_db', 'products', 'part-00000']\n",
      "['data', 'retail_db', 'departments', 'part-00000']\n",
      "['data', 'retail_db', 'order_items', 'part-00000']\n",
      "['data', 'retail_db', 'orders', 'part-00000']\n",
      "['data', 'retail_db', 'categories', 'part-00000']\n"
     ]
    }
   ],
   "source": [
    "for file in src_file_names:\n",
    "    print(re.split('[/\\\\\\]', file))"
   ]
  },
  {
   "cell_type": "code",
   "execution_count": 10,
   "metadata": {},
   "outputs": [],
   "source": [
    "file = src_file_names[0]"
   ]
  },
  {
   "cell_type": "code",
   "execution_count": 11,
   "metadata": {},
   "outputs": [
    {
     "data": {
      "text/plain": [
       "'data/retail_db\\\\customers\\\\part-00000'"
      ]
     },
     "execution_count": 11,
     "metadata": {},
     "output_type": "execute_result"
    }
   ],
   "source": [
    "file"
   ]
  },
  {
   "cell_type": "code",
   "execution_count": 13,
   "metadata": {},
   "outputs": [],
   "source": [
    "file_details = re.split('[/\\\\\\]', file)"
   ]
  },
  {
   "cell_type": "code",
   "execution_count": 16,
   "metadata": {},
   "outputs": [],
   "source": [
    "ds_name = file_details[-2]"
   ]
  },
  {
   "cell_type": "code",
   "execution_count": 15,
   "metadata": {},
   "outputs": [],
   "source": [
    "def get_column_names(schemas, ds_name, sortin_key='column_position'):\n",
    "    column_details = schemas[ds_name]\n",
    "    columns = sorted(column_details, key=lambda col: col[sortin_key])\n",
    "    return [col['column_name'] for col in columns]"
   ]
  },
  {
   "cell_type": "code",
   "execution_count": 17,
   "metadata": {},
   "outputs": [],
   "source": [
    "columns = get_column_names(schemas, ds_name)"
   ]
  },
  {
   "cell_type": "code",
   "execution_count": 18,
   "metadata": {},
   "outputs": [
    {
     "data": {
      "text/plain": [
       "['customer_id',\n",
       " 'customer_fname',\n",
       " 'customer_lname',\n",
       " 'customer_email',\n",
       " 'customer_password',\n",
       " 'customer_street',\n",
       " 'customer_city',\n",
       " 'customer_state',\n",
       " 'customer_zipcode']"
      ]
     },
     "execution_count": 18,
     "metadata": {},
     "output_type": "execute_result"
    }
   ],
   "source": [
    "columns"
   ]
  },
  {
   "cell_type": "code",
   "execution_count": 19,
   "metadata": {},
   "outputs": [],
   "source": [
    "df = pd.read_csv(file, names=columns)"
   ]
  },
  {
   "cell_type": "code",
   "execution_count": 20,
   "metadata": {},
   "outputs": [
    {
     "data": {
      "text/html": [
       "<div>\n",
       "<style scoped>\n",
       "    .dataframe tbody tr th:only-of-type {\n",
       "        vertical-align: middle;\n",
       "    }\n",
       "\n",
       "    .dataframe tbody tr th {\n",
       "        vertical-align: top;\n",
       "    }\n",
       "\n",
       "    .dataframe thead th {\n",
       "        text-align: right;\n",
       "    }\n",
       "</style>\n",
       "<table border=\"1\" class=\"dataframe\">\n",
       "  <thead>\n",
       "    <tr style=\"text-align: right;\">\n",
       "      <th></th>\n",
       "      <th>customer_id</th>\n",
       "      <th>customer_fname</th>\n",
       "      <th>customer_lname</th>\n",
       "      <th>customer_email</th>\n",
       "      <th>customer_password</th>\n",
       "      <th>customer_street</th>\n",
       "      <th>customer_city</th>\n",
       "      <th>customer_state</th>\n",
       "      <th>customer_zipcode</th>\n",
       "    </tr>\n",
       "  </thead>\n",
       "  <tbody>\n",
       "    <tr>\n",
       "      <th>0</th>\n",
       "      <td>1</td>\n",
       "      <td>Richard</td>\n",
       "      <td>Hernandez</td>\n",
       "      <td>XXXXXXXXX</td>\n",
       "      <td>XXXXXXXXX</td>\n",
       "      <td>6303 Heather Plaza</td>\n",
       "      <td>Brownsville</td>\n",
       "      <td>TX</td>\n",
       "      <td>78521</td>\n",
       "    </tr>\n",
       "    <tr>\n",
       "      <th>1</th>\n",
       "      <td>2</td>\n",
       "      <td>Mary</td>\n",
       "      <td>Barrett</td>\n",
       "      <td>XXXXXXXXX</td>\n",
       "      <td>XXXXXXXXX</td>\n",
       "      <td>9526 Noble Embers Ridge</td>\n",
       "      <td>Littleton</td>\n",
       "      <td>CO</td>\n",
       "      <td>80126</td>\n",
       "    </tr>\n",
       "    <tr>\n",
       "      <th>2</th>\n",
       "      <td>3</td>\n",
       "      <td>Ann</td>\n",
       "      <td>Smith</td>\n",
       "      <td>XXXXXXXXX</td>\n",
       "      <td>XXXXXXXXX</td>\n",
       "      <td>3422 Blue Pioneer Bend</td>\n",
       "      <td>Caguas</td>\n",
       "      <td>PR</td>\n",
       "      <td>725</td>\n",
       "    </tr>\n",
       "    <tr>\n",
       "      <th>3</th>\n",
       "      <td>4</td>\n",
       "      <td>Mary</td>\n",
       "      <td>Jones</td>\n",
       "      <td>XXXXXXXXX</td>\n",
       "      <td>XXXXXXXXX</td>\n",
       "      <td>8324 Little Common</td>\n",
       "      <td>San Marcos</td>\n",
       "      <td>CA</td>\n",
       "      <td>92069</td>\n",
       "    </tr>\n",
       "    <tr>\n",
       "      <th>4</th>\n",
       "      <td>5</td>\n",
       "      <td>Robert</td>\n",
       "      <td>Hudson</td>\n",
       "      <td>XXXXXXXXX</td>\n",
       "      <td>XXXXXXXXX</td>\n",
       "      <td>10 Crystal River Mall</td>\n",
       "      <td>Caguas</td>\n",
       "      <td>PR</td>\n",
       "      <td>725</td>\n",
       "    </tr>\n",
       "    <tr>\n",
       "      <th>...</th>\n",
       "      <td>...</td>\n",
       "      <td>...</td>\n",
       "      <td>...</td>\n",
       "      <td>...</td>\n",
       "      <td>...</td>\n",
       "      <td>...</td>\n",
       "      <td>...</td>\n",
       "      <td>...</td>\n",
       "      <td>...</td>\n",
       "    </tr>\n",
       "    <tr>\n",
       "      <th>12430</th>\n",
       "      <td>12431</td>\n",
       "      <td>Mary</td>\n",
       "      <td>Rios</td>\n",
       "      <td>XXXXXXXXX</td>\n",
       "      <td>XXXXXXXXX</td>\n",
       "      <td>1221 Cinder Pines</td>\n",
       "      <td>Kaneohe</td>\n",
       "      <td>HI</td>\n",
       "      <td>96744</td>\n",
       "    </tr>\n",
       "    <tr>\n",
       "      <th>12431</th>\n",
       "      <td>12432</td>\n",
       "      <td>Angela</td>\n",
       "      <td>Smith</td>\n",
       "      <td>XXXXXXXXX</td>\n",
       "      <td>XXXXXXXXX</td>\n",
       "      <td>1525 Jagged Barn Highlands</td>\n",
       "      <td>Caguas</td>\n",
       "      <td>PR</td>\n",
       "      <td>725</td>\n",
       "    </tr>\n",
       "    <tr>\n",
       "      <th>12432</th>\n",
       "      <td>12433</td>\n",
       "      <td>Benjamin</td>\n",
       "      <td>Garcia</td>\n",
       "      <td>XXXXXXXXX</td>\n",
       "      <td>XXXXXXXXX</td>\n",
       "      <td>5459 Noble Brook Landing</td>\n",
       "      <td>Levittown</td>\n",
       "      <td>NY</td>\n",
       "      <td>11756</td>\n",
       "    </tr>\n",
       "    <tr>\n",
       "      <th>12433</th>\n",
       "      <td>12434</td>\n",
       "      <td>Mary</td>\n",
       "      <td>Mills</td>\n",
       "      <td>XXXXXXXXX</td>\n",
       "      <td>XXXXXXXXX</td>\n",
       "      <td>9720 Colonial Parade</td>\n",
       "      <td>Caguas</td>\n",
       "      <td>PR</td>\n",
       "      <td>725</td>\n",
       "    </tr>\n",
       "    <tr>\n",
       "      <th>12434</th>\n",
       "      <td>12435</td>\n",
       "      <td>Laura</td>\n",
       "      <td>Horton</td>\n",
       "      <td>XXXXXXXXX</td>\n",
       "      <td>XXXXXXXXX</td>\n",
       "      <td>5736 Honey Downs</td>\n",
       "      <td>Summerville</td>\n",
       "      <td>SC</td>\n",
       "      <td>29483</td>\n",
       "    </tr>\n",
       "  </tbody>\n",
       "</table>\n",
       "<p>12435 rows × 9 columns</p>\n",
       "</div>"
      ],
      "text/plain": [
       "       customer_id customer_fname customer_lname customer_email  \\\n",
       "0                1        Richard      Hernandez      XXXXXXXXX   \n",
       "1                2           Mary        Barrett      XXXXXXXXX   \n",
       "2                3            Ann          Smith      XXXXXXXXX   \n",
       "3                4           Mary          Jones      XXXXXXXXX   \n",
       "4                5         Robert         Hudson      XXXXXXXXX   \n",
       "...            ...            ...            ...            ...   \n",
       "12430        12431           Mary           Rios      XXXXXXXXX   \n",
       "12431        12432         Angela          Smith      XXXXXXXXX   \n",
       "12432        12433       Benjamin         Garcia      XXXXXXXXX   \n",
       "12433        12434           Mary          Mills      XXXXXXXXX   \n",
       "12434        12435          Laura         Horton      XXXXXXXXX   \n",
       "\n",
       "      customer_password             customer_street customer_city  \\\n",
       "0             XXXXXXXXX          6303 Heather Plaza   Brownsville   \n",
       "1             XXXXXXXXX     9526 Noble Embers Ridge     Littleton   \n",
       "2             XXXXXXXXX      3422 Blue Pioneer Bend        Caguas   \n",
       "3             XXXXXXXXX          8324 Little Common    San Marcos   \n",
       "4             XXXXXXXXX      10 Crystal River Mall         Caguas   \n",
       "...                 ...                         ...           ...   \n",
       "12430         XXXXXXXXX           1221 Cinder Pines       Kaneohe   \n",
       "12431         XXXXXXXXX  1525 Jagged Barn Highlands        Caguas   \n",
       "12432         XXXXXXXXX    5459 Noble Brook Landing     Levittown   \n",
       "12433         XXXXXXXXX        9720 Colonial Parade        Caguas   \n",
       "12434         XXXXXXXXX            5736 Honey Downs   Summerville   \n",
       "\n",
       "      customer_state  customer_zipcode  \n",
       "0                 TX             78521  \n",
       "1                 CO             80126  \n",
       "2                 PR               725  \n",
       "3                 CA             92069  \n",
       "4                 PR               725  \n",
       "...              ...               ...  \n",
       "12430             HI             96744  \n",
       "12431             PR               725  \n",
       "12432             NY             11756  \n",
       "12433             PR               725  \n",
       "12434             SC             29483  \n",
       "\n",
       "[12435 rows x 9 columns]"
      ]
     },
     "execution_count": 20,
     "metadata": {},
     "output_type": "execute_result"
    }
   ],
   "source": [
    "df"
   ]
  },
  {
   "cell_type": "code",
   "execution_count": 21,
   "metadata": {},
   "outputs": [
    {
     "data": {
      "text/plain": [
       "(12435, 9)"
      ]
     },
     "execution_count": 21,
     "metadata": {},
     "output_type": "execute_result"
    }
   ],
   "source": [
    "df.shape"
   ]
  },
  {
   "cell_type": "code",
   "execution_count": 22,
   "metadata": {},
   "outputs": [
    {
     "name": "stdout",
     "output_type": "stream",
     "text": [
      "Processing data/retail_db\\customers\\part-00000\n",
      "shape of customers is (12435, 9)\n",
      "Processing data/retail_db\\products\\part-00000\n",
      "shape of products is (1345, 6)\n",
      "Processing data/retail_db\\departments\\part-00000\n",
      "shape of departments is (6, 2)\n",
      "Processing data/retail_db\\order_items\\part-00000\n",
      "shape of order_items is (172198, 6)\n",
      "Processing data/retail_db\\orders\\part-00000\n",
      "shape of orders is (68883, 4)\n",
      "Processing data/retail_db\\categories\\part-00000\n",
      "shape of categories is (58, 3)\n"
     ]
    }
   ],
   "source": [
    "for file in src_file_names:\n",
    "    print(f'Processing {file}')\n",
    "    file_path_list = re.split('[/\\\\\\]', file)\n",
    "    ds_name = file_path_list[-2]\n",
    "    columns = get_column_names(schemas, ds_name)\n",
    "    df = pd.read_csv(file, names=columns)\n",
    "    print(f'shape of {ds_name} is {df.shape}')"
   ]
  },
  {
   "cell_type": "code",
   "execution_count": null,
   "metadata": {},
   "outputs": [],
   "source": []
  }
 ],
 "metadata": {
  "kernelspec": {
   "display_name": ".venv",
   "language": "python",
   "name": "python3"
  },
  "language_info": {
   "codemirror_mode": {
    "name": "ipython",
    "version": 3
   },
   "file_extension": ".py",
   "mimetype": "text/x-python",
   "name": "python",
   "nbconvert_exporter": "python",
   "pygments_lexer": "ipython3",
   "version": "3.9.13"
  }
 },
 "nbformat": 4,
 "nbformat_minor": 2
}

{
 "cells": [
  {
   "cell_type": "code",
   "execution_count": 1,
   "metadata": {},
   "outputs": [
    {
     "name": "stdout",
     "output_type": "stream",
     "text": [
      "Collecting pandas\n",
      "  Using cached pandas-2.2.2-cp39-cp39-win_amd64.whl.metadata (19 kB)\n",
      "Collecting numpy>=1.22.4 (from pandas)\n",
      "  Using cached numpy-1.26.4-cp39-cp39-win_amd64.whl.metadata (61 kB)\n",
      "Collecting python-dateutil>=2.8.2 (from pandas)\n",
      "  Using cached python_dateutil-2.9.0.post0-py2.py3-none-any.whl.metadata (8.4 kB)\n",
      "Collecting pytz>=2020.1 (from pandas)\n",
      "  Using cached pytz-2024.1-py2.py3-none-any.whl.metadata (22 kB)\n",
      "Collecting tzdata>=2022.7 (from pandas)\n",
      "  Using cached tzdata-2024.1-py2.py3-none-any.whl.metadata (1.4 kB)\n",
      "Collecting six>=1.5 (from python-dateutil>=2.8.2->pandas)\n",
      "  Using cached six-1.16.0-py2.py3-none-any.whl.metadata (1.8 kB)\n",
      "Using cached pandas-2.2.2-cp39-cp39-win_amd64.whl (11.6 MB)\n",
      "Using cached numpy-1.26.4-cp39-cp39-win_amd64.whl (15.8 MB)\n",
      "Using cached python_dateutil-2.9.0.post0-py2.py3-none-any.whl (229 kB)\n",
      "Using cached pytz-2024.1-py2.py3-none-any.whl (505 kB)\n",
      "Using cached tzdata-2024.1-py2.py3-none-any.whl (345 kB)\n",
      "Using cached six-1.16.0-py2.py3-none-any.whl (11 kB)\n",
      "Installing collected packages: pytz, tzdata, six, numpy, python-dateutil, pandas\n",
      "Note: you may need to restart the kernel to use updated packages.\n"
     ]
    },
    {
     "name": "stderr",
     "output_type": "stream",
     "text": [
      "ERROR: Could not install packages due to an OSError: [WinError 5] Access is denied: '\\\\\\\\mac\\\\Home\\\\Documents\\\\Data Engineering\\\\Python-File-Format-Converter\\\\.venv\\\\Lib\\\\site-packages\\\\numpy\\\\core\\\\_multiarray_tests.cp39-win_amd64.pyd'\n",
      "Check the permissions.\n",
      "\n"
     ]
    }
   ],
   "source": [
    "%pip install pandas\n"
   ]
  },
  {
   "cell_type": "code",
   "execution_count": 2,
   "metadata": {},
   "outputs": [],
   "source": [
    "\n",
    "import pandas as pd\n",
    "### Reading orders JSON File using pandas\n",
    "\n",
    "orders_data_json= pd.read_json(\n",
    "    'data/retail_db_json/orders/part-00000',\n",
    "    lines = True,\n",
    ")"
   ]
  },
  {
   "cell_type": "code",
   "execution_count": 3,
   "metadata": {},
   "outputs": [
    {
     "data": {
      "text/plain": [
       "order_id             68883\n",
       "order_date           68883\n",
       "order_customer_id    68883\n",
       "order_status         68883\n",
       "dtype: int64"
      ]
     },
     "execution_count": 3,
     "metadata": {},
     "output_type": "execute_result"
    }
   ],
   "source": [
    "## To find out the count of rows\n",
    "\n",
    "orders_data_json.count()\n"
   ]
  },
  {
   "cell_type": "code",
   "execution_count": 4,
   "metadata": {},
   "outputs": [],
   "source": [
    "## To read order_items Json file using pandas\n",
    "\n",
    "orders_items_data_json= pd.read_json(\n",
    "    'data/retail_db_json/order_items/part-00000',\n",
    "    lines= True,\n",
    ")"
   ]
  },
  {
   "cell_type": "code",
   "execution_count": 5,
   "metadata": {},
   "outputs": [
    {
     "data": {
      "text/plain": [
       "order_item_id               172198\n",
       "order_item_order_id         172198\n",
       "order_item_product_id       172198\n",
       "order_item_quantity         172198\n",
       "order_item_subtotal         172198\n",
       "order_item_product_price    172198\n",
       "dtype: int64"
      ]
     },
     "execution_count": 5,
     "metadata": {},
     "output_type": "execute_result"
    }
   ],
   "source": [
    "## To count row of order_items\n",
    "orders_items_data_json.count()"
   ]
  },
  {
   "cell_type": "code",
   "execution_count": 6,
   "metadata": {},
   "outputs": [
    {
     "name": "stdout",
     "output_type": "stream",
     "text": [
      "\n",
      "Please wait a moment while I gather a list of all available modules...\n",
      "\n"
     ]
    },
    {
     "name": "stderr",
     "output_type": "stream",
     "text": [
      "C:\\Users\\lovice\\AppData\\Local\\Programs\\Python\\Python39\\lib\\pkgutil.py:93: UserWarning: The numpy.array_api submodule is still experimental. See NEP 47.\n",
      "  __import__(info.name)\n"
     ]
    },
    {
     "name": "stdout",
     "output_type": "stream",
     "text": [
      "IPython             base64              mmap                sys\n",
      "__future__          bdb                 mmapfile            sysconfig\n",
      "_abc                binascii            mmsystem            tabnanny\n",
      "_aix_support        binhex              modulefinder        tarfile\n",
      "_ast                bisect              msilib              telnetlib\n",
      "_asyncio            builtins            msvcrt              tempfile\n",
      "_bisect             bz2                 multiprocessing     test\n",
      "_blake2             cProfile            nest_asyncio        textwrap\n",
      "_bootlocale         calendar            netbios             this\n",
      "_bootsubprocess     cgi                 netrc               threading\n",
      "_bz2                cgitb               nntplib             time\n",
      "_codecs             chunk               nt                  timeit\n",
      "_codecs_cn          cmath               ntpath              timer\n",
      "_codecs_hk          cmd                 ntsecuritycon       tkinter\n",
      "_codecs_iso2022     code                nturl2path          token\n",
      "_codecs_jp          codecs              numbers             tokenize\n",
      "_codecs_kr          codeop              numpy               tornado\n",
      "_codecs_tw          collections         odbc                trace\n",
      "_collections        colorama            opcode              traceback\n",
      "_collections_abc    colorsys            operator            tracemalloc\n",
      "_compat_pickle      comm                optparse            traitlets\n",
      "_compression        commctrl            os                  tty\n",
      "_contextvars        compileall          packaging           turtle\n",
      "_csv                concurrent          pandas              turtledemo\n",
      "_ctypes             configparser        parser              types\n",
      "_ctypes_test        contextlib          parso               typing\n",
      "_datetime           contextvars         pathlib             typing_extensions\n",
      "_decimal            copy                pdb                 tzdata\n",
      "_distutils_hack     copyreg             perfmon             unicodedata\n",
      "_elementtree        crypt               pickle              unittest\n",
      "_functools          csv                 pickletools         urllib\n",
      "_hashlib            ctypes              pip                 uu\n",
      "_heapq              curses              pipes               uuid\n",
      "_imp                dataclasses         pkg_resources       venv\n",
      "_io                 datetime            pkgutil             warnings\n",
      "_json               dateutil            platform            wave\n",
      "_locale             dbi                 platformdirs        wcwidth\n",
      "_lsprof             dbm                 plistlib            weakref\n",
      "_lzma               dde                 poplib              webbrowser\n",
      "_markupbase         debugpy             posixpath           win2kras\n",
      "_md5                decimal             pprint              win32api\n",
      "_msi                decorator           profile             win32clipboard\n",
      "_multibytecodec     difflib             prompt_toolkit      win32com\n",
      "_multiprocessing    dis                 pstats              win32con\n",
      "_opcode             distutils           psutil              win32console\n",
      "_operator           doctest             pty                 win32cred\n",
      "_osx_support        email               pure_eval           win32crypt\n",
      "_overlapped         encodings           py_compile          win32cryptcon\n",
      "_peg_parser         ensurepip           pyclbr              win32event\n",
      "_pickle             enum                pydoc               win32evtlog\n",
      "_py_abc             errno               pydoc_data          win32evtlogutil\n",
      "_pydecimal          exceptiongroup      pyexpat             win32file\n",
      "_pyio               executing           pygments            win32gui\n",
      "_queue              faulthandler        pythoncom           win32gui_struct\n",
      "_random             filecmp             pytz                win32help\n",
      "_sha1               fileinput           pywin               win32inet\n",
      "_sha256             fnmatch             pywin32_bootstrap   win32inetcon\n",
      "_sha3               formatter           pywin32_testutil    win32job\n",
      "_sha512             fractions           pywintypes          win32lz\n",
      "_signal             ftplib              queue               win32net\n",
      "_sitebuiltins       functools           quopri              win32netcon\n",
      "_socket             gc                  random              win32pdh\n",
      "_sqlite3            genericpath         rasutil             win32pdhquery\n",
      "_sre                getopt              re                  win32pdhutil\n",
      "_ssl                getpass             regcheck            win32pipe\n",
      "_stat               gettext             regutil             win32print\n",
      "_statistics         glob                reprlib             win32process\n",
      "_string             graphlib            rlcompleter         win32profile\n",
      "_strptime           gzip                runpy               win32ras\n",
      "_struct             hashlib             sched               win32rcparser\n",
      "_symtable           heapq               secrets             win32security\n",
      "_testbuffer         hmac                select              win32service\n",
      "_testcapi           html                selectors           win32serviceutil\n",
      "_testconsole        http                servicemanager      win32timezone\n",
      "_testimportmultiple idlelib             setuptools          win32trace\n",
      "_testinternalcapi   imaplib             shelve              win32traceutil\n",
      "_testmultiphase     imghdr              shlex               win32transaction\n",
      "_thread             imp                 shutil              win32ts\n",
      "_threading_local    importlib           signal              win32ui\n",
      "_tkinter            importlib_metadata  site                win32uiole\n",
      "_tracemalloc        inspect             six                 win32verstamp\n",
      "_uuid               io                  smtpd               win32wnet\n",
      "_warnings           ipaddress           smtplib             winerror\n",
      "_weakref            ipykernel           sndhdr              winioctlcon\n",
      "_weakrefset         ipykernel_launcher  socket              winnt\n",
      "_win32sysloader     isapi               socketserver        winperf\n",
      "_winapi             itertools           sqlite3             winreg\n",
      "_winxptheme         jedi                sre_compile         winsound\n",
      "_xxsubinterpreters  json                sre_constants       winxpgui\n",
      "_zoneinfo           jupyter             sre_parse           winxptheme\n",
      "abc                 jupyter_client      ssl                 wsgiref\n",
      "adodbapi            jupyter_core        sspi                xdrlib\n",
      "afxres              keyword             sspicon             xml\n",
      "aifc                lib2to3             stack_data          xmlrpc\n",
      "antigravity         linecache           start_pythonwin     xxsubtype\n",
      "argparse            locale              stat                zipapp\n",
      "array               logging             statistics          zipfile\n",
      "ast                 lzma                string              zipimport\n",
      "asttokens           mailbox             stringprep          zipp\n",
      "asynchat            mailcap             struct              zlib\n",
      "asyncio             marshal             subprocess          zmq\n",
      "asyncore            math                sunau               zoneinfo\n",
      "atexit              matplotlib_inline   symbol              \n",
      "audioop             mimetypes           symtable            \n",
      "\n",
      "Enter any module name to get more help.  Or, type \"modules spam\" to search\n",
      "for modules whose name or summary contain the string \"spam\".\n",
      "\n"
     ]
    }
   ],
   "source": [
    "help('modules')"
   ]
  }
 ],
 "metadata": {
  "kernelspec": {
   "display_name": ".venv",
   "language": "python",
   "name": "python3"
  },
  "language_info": {
   "codemirror_mode": {
    "name": "ipython",
    "version": 3
   },
   "file_extension": ".py",
   "mimetype": "text/x-python",
   "name": "python",
   "nbconvert_exporter": "python",
   "pygments_lexer": "ipython3",
   "version": "3.9.13"
  }
 },
 "nbformat": 4,
 "nbformat_minor": 2
}

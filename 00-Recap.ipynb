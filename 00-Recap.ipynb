{
 "cells": [
  {
   "cell_type": "code",
   "execution_count": 2,
   "metadata": {},
   "outputs": [
    {
     "name": "stdout",
     "output_type": "stream",
     "text": [
      "Collecting pandas\n",
      "  Downloading pandas-2.2.2-cp39-cp39-win_amd64.whl.metadata (19 kB)\n",
      "Collecting numpy>=1.22.4 (from pandas)\n",
      "  Downloading numpy-1.26.4-cp39-cp39-win_amd64.whl.metadata (61 kB)\n",
      "     ---------------------------------------- 0.0/61.0 kB ? eta -:--:--\n",
      "     ---------------------------------------- 61.0/61.0 kB 1.6 MB/s eta 0:00:00\n",
      "Collecting python-dateutil>=2.8.2 (from pandas)\n",
      "  Using cached python_dateutil-2.9.0.post0-py2.py3-none-any.whl.metadata (8.4 kB)\n",
      "Collecting pytz>=2020.1 (from pandas)\n",
      "  Downloading pytz-2024.1-py2.py3-none-any.whl.metadata (22 kB)\n",
      "Collecting tzdata>=2022.7 (from pandas)\n",
      "  Downloading tzdata-2024.1-py2.py3-none-any.whl.metadata (1.4 kB)\n",
      "Collecting six>=1.5 (from python-dateutil>=2.8.2->pandas)\n",
      "  Using cached six-1.16.0-py2.py3-none-any.whl.metadata (1.8 kB)\n",
      "Downloading pandas-2.2.2-cp39-cp39-win_amd64.whl (11.6 MB)\n",
      "   ---------------------------------------- 0.0/11.6 MB ? eta -:--:--\n",
      "   -- ------------------------------------- 0.6/11.6 MB 20.5 MB/s eta 0:00:01\n",
      "   -------- ------------------------------- 2.5/11.6 MB 32.2 MB/s eta 0:00:01\n",
      "   ------------------ --------------------- 5.2/11.6 MB 48.0 MB/s eta 0:00:01\n",
      "   -------------------------- ------------- 7.8/11.6 MB 49.6 MB/s eta 0:00:01\n",
      "   ---------------------------------- ----- 10.1/11.6 MB 49.8 MB/s eta 0:00:01\n",
      "   ---------------------------------------  11.6/11.6 MB 46.7 MB/s eta 0:00:01\n",
      "   ---------------------------------------  11.6/11.6 MB 46.7 MB/s eta 0:00:01\n",
      "   ---------------------------------------- 11.6/11.6 MB 34.4 MB/s eta 0:00:00\n",
      "Downloading numpy-1.26.4-cp39-cp39-win_amd64.whl (15.8 MB)\n",
      "   ---------------------------------------- 0.0/15.8 MB ? eta -:--:--\n",
      "   ------- -------------------------------- 3.0/15.8 MB 65.4 MB/s eta 0:00:01\n",
      "   ----------- ---------------------------- 4.5/15.8 MB 48.8 MB/s eta 0:00:01\n",
      "   -------------- ------------------------- 5.7/15.8 MB 40.7 MB/s eta 0:00:01\n",
      "   ---------------- ----------------------- 6.7/15.8 MB 35.8 MB/s eta 0:00:01\n",
      "   ------------------- -------------------- 7.7/15.8 MB 32.8 MB/s eta 0:00:01\n",
      "   ---------------------- ----------------- 8.7/15.8 MB 31.0 MB/s eta 0:00:01\n",
      "   ------------------------- -------------- 9.9/15.8 MB 30.3 MB/s eta 0:00:01\n",
      "   --------------------------- ------------ 11.0/15.8 MB 28.4 MB/s eta 0:00:01\n",
      "   ------------------------------- -------- 12.3/15.8 MB 27.3 MB/s eta 0:00:01\n",
      "   --------------------------------- ------ 13.4/15.8 MB 25.1 MB/s eta 0:00:01\n",
      "   ------------------------------------- -- 14.7/15.8 MB 25.1 MB/s eta 0:00:01\n",
      "   ---------------------------------------  15.8/15.8 MB 26.2 MB/s eta 0:00:01\n",
      "   ---------------------------------------  15.8/15.8 MB 26.2 MB/s eta 0:00:01\n",
      "   ---------------------------------------  15.8/15.8 MB 26.2 MB/s eta 0:00:01\n",
      "   ---------------------------------------- 15.8/15.8 MB 19.3 MB/s eta 0:00:00\n",
      "Using cached python_dateutil-2.9.0.post0-py2.py3-none-any.whl (229 kB)\n",
      "Downloading pytz-2024.1-py2.py3-none-any.whl (505 kB)\n",
      "   ---------------------------------------- 0.0/505.5 kB ? eta -:--:--\n",
      "   --------------------------------------- 505.5/505.5 kB 31.0 MB/s eta 0:00:00\n",
      "Downloading tzdata-2024.1-py2.py3-none-any.whl (345 kB)\n",
      "   ---------------------------------------- 0.0/345.4 kB ? eta -:--:--\n",
      "   ---------------------------------------- 345.4/345.4 kB ? eta 0:00:00\n",
      "Using cached six-1.16.0-py2.py3-none-any.whl (11 kB)\n",
      "Installing collected packages: pytz, tzdata, six, numpy, python-dateutil, pandas\n",
      "Successfully installed numpy pandas python-dateutil pytz six tzdata\n",
      "Note: you may need to restart the kernel to use updated packages.\n"
     ]
    }
   ],
   "source": [
    "%pip install pandas\n"
   ]
  },
  {
   "cell_type": "code",
   "execution_count": 2,
   "metadata": {},
   "outputs": [],
   "source": [
    "import pandas as pd\n",
    "### Reading orders JSON File using pandas\n",
    "\n",
    "orders_data_json= pd.read_json(\n",
    "    'data/retail_db_json/orders/part-00000',\n",
    "    lines = True,\n",
    ")"
   ]
  },
  {
   "cell_type": "code",
   "execution_count": 3,
   "metadata": {},
   "outputs": [
    {
     "data": {
      "text/plain": [
       "order_id             68883\n",
       "order_date           68883\n",
       "order_customer_id    68883\n",
       "order_status         68883\n",
       "dtype: int64"
      ]
     },
     "execution_count": 3,
     "metadata": {},
     "output_type": "execute_result"
    }
   ],
   "source": [
    "## To find out the count of rows\n",
    "\n",
    "orders_data_json.count()\n"
   ]
  },
  {
   "cell_type": "code",
   "execution_count": 3,
   "metadata": {},
   "outputs": [],
   "source": [
    "## To read order_items Json file using pandas\n",
    "\n",
    "orders_items_data_json= pd.read_json(\n",
    "    'data/retail_db_json/order_items/part-00000',\n",
    "    lines= True,\n",
    ")"
   ]
  },
  {
   "cell_type": "code",
   "execution_count": 4,
   "metadata": {},
   "outputs": [
    {
     "data": {
      "text/plain": [
       "order_item_id               172198\n",
       "order_item_order_id         172198\n",
       "order_item_product_id       172198\n",
       "order_item_quantity         172198\n",
       "order_item_subtotal         172198\n",
       "order_item_product_price    172198\n",
       "dtype: int64"
      ]
     },
     "execution_count": 4,
     "metadata": {},
     "output_type": "execute_result"
    }
   ],
   "source": [
    "## To count row of order_items\n",
    "orders_items_data_json.count()"
   ]
  }
 ],
 "metadata": {
  "kernelspec": {
   "display_name": ".venv",
   "language": "python",
   "name": "python3"
  },
  "language_info": {
   "codemirror_mode": {
    "name": "ipython",
    "version": 3
   },
   "file_extension": ".py",
   "mimetype": "text/x-python",
   "name": "python",
   "nbconvert_exporter": "python",
   "pygments_lexer": "ipython3",
   "version": "3.9.13"
  }
 },
 "nbformat": 4,
 "nbformat_minor": 2
}
